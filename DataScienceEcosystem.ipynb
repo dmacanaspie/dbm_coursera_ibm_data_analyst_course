{
 "cells": [
  {
   "metadata": {},
   "cell_type": "markdown",
   "source": "# Data Science Tools and Ecosystem",
   "id": "d7fd587f289c13ee"
  },
  {
   "metadata": {},
   "cell_type": "markdown",
   "source": "In this notebook, Data Science Tools and Ecosystem are summarized.",
   "id": "c9caca79c10e52c"
  },
  {
   "metadata": {},
   "cell_type": "markdown",
   "source": [
    "**Objectives**\n",
    "- Identify popular languages, libraries, and tools commonly used by Data Scientists.\n",
    "- Demonstrate the use of markdown for formatting.\n",
    "- Demonstrate the execution of code blocks using basic arithmetic."
   ],
   "id": "24055d9d2cd00366"
  },
  {
   "metadata": {},
   "cell_type": "markdown",
   "source": [
    "Some of the popular languages that Data Scientists use are:\n",
    "\n",
    "1. Python\n",
    "2. R\n",
    "3. Java\n",
    "4. Scala\n",
    "5. C/C++"
   ],
   "id": "5c8eb866f5e4bbaa"
  },
  {
   "metadata": {},
   "cell_type": "markdown",
   "source": [
    "Some of the commonly used libraries used by Data Scientists include:\n",
    "1. Pandas\n",
    "2. Numpy\n",
    "3. Scipy\n",
    "4. Scikit-learn\n",
    "5. TensorFlow"
   ],
   "id": "6df1ee9d0d679167"
  },
  {
   "metadata": {},
   "cell_type": "markdown",
   "source": [
    "Data Science Tools\n",
    "1. Visual Studio Code\n",
    "2. PyCharm\n",
    "3. Spyder\n",
    "4. RStudio"
   ],
   "id": "464aaa11d8c5ad7a"
  },
  {
   "metadata": {},
   "cell_type": "markdown",
   "source": "Below are a few examples of evaluating arithmetic expressions in Python.",
   "id": "cb2fe51a358dd4cb"
  },
  {
   "metadata": {
    "ExecuteTime": {
     "end_time": "2024-12-13T18:16:18.122943Z",
     "start_time": "2024-12-13T18:16:18.117230Z"
    }
   },
   "cell_type": "code",
   "source": [
    "print(3+5)\n",
    "print(9+12)\n",
    "print(3-4)"
   ],
   "id": "e34c80e4f98a05c1",
   "outputs": [
    {
     "name": "stdout",
     "output_type": "stream",
     "text": [
      "8\n",
      "21\n",
      "-1\n"
     ]
    }
   ],
   "execution_count": 20
  },
  {
   "metadata": {
    "ExecuteTime": {
     "end_time": "2024-12-13T18:16:18.146559Z",
     "start_time": "2024-12-13T18:16:18.135051Z"
    }
   },
   "cell_type": "code",
   "source": [
    "# This a simple arithmetic expression to mutiply then add integers.\n",
    "(3*4)+5"
   ],
   "id": "cf672a08613ed6aa",
   "outputs": [
    {
     "data": {
      "text/plain": [
       "17"
      ]
     },
     "execution_count": 21,
     "metadata": {},
     "output_type": "execute_result"
    }
   ],
   "execution_count": 21
  },
  {
   "metadata": {
    "ExecuteTime": {
     "end_time": "2024-12-13T18:16:18.160185Z",
     "start_time": "2024-12-13T18:16:18.157106Z"
    }
   },
   "cell_type": "code",
   "source": [
    "# This will convert 200 minutes to hours by diving by 60.\n",
    "200 / 60"
   ],
   "id": "2e7b5ddea7b1abea",
   "outputs": [
    {
     "data": {
      "text/plain": [
       "3.3333333333333335"
      ]
     },
     "execution_count": 22,
     "metadata": {},
     "output_type": "execute_result"
    }
   ],
   "execution_count": 22
  },
  {
   "metadata": {},
   "cell_type": "markdown",
   "source": [
    "## Author Details\n",
    "[Duane MacAnaspie](https://github.com/dmacanaspie/dbm_coursera_ibm_data_analyst_course)"
   ],
   "id": "89d0822d115d8362"
  },
  {
   "metadata": {
    "ExecuteTime": {
     "end_time": "2024-12-13T18:16:18.173582Z",
     "start_time": "2024-12-13T18:16:18.171519Z"
    }
   },
   "cell_type": "code",
   "source": "",
   "id": "2ffe8988e2bc2a11",
   "outputs": [],
   "execution_count": null
  }
 ],
 "metadata": {
  "kernelspec": {
   "display_name": "Python 3",
   "language": "python",
   "name": "python3"
  },
  "language_info": {
   "codemirror_mode": {
    "name": "ipython",
    "version": 2
   },
   "file_extension": ".py",
   "mimetype": "text/x-python",
   "name": "python",
   "nbconvert_exporter": "python",
   "pygments_lexer": "ipython2",
   "version": "2.7.6"
  }
 },
 "nbformat": 4,
 "nbformat_minor": 5
}
